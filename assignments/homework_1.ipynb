{
 "cells": [
  {
   "cell_type": "markdown",
   "metadata": {},
   "source": [
    "# CSC 101 - Homework 1"
   ]
  },
  {
   "cell_type": "markdown",
   "metadata": {},
   "source": [
    "## General Programming Knowledge\n",
    "\n",
    "We do not write everything from scratch when we code/program.  We *import* code that is already written.  If someone else has already written code for handling dates and times and how to calculate differences and whatnot I will use their code instead of writing it myself since I am lazy.\n",
    "\n",
    "Python, in fact, has a `datetime` library (also called a package or module) that allows us to do just that.  We just need to write:\n",
    "\n",
    "```python\n",
    "import datetime\n",
    "```\n",
    "\n",
    "Below, import the `datetime` library."
   ]
  },
  {
   "cell_type": "code",
   "execution_count": null,
   "metadata": {},
   "outputs": [],
   "source": [
    "# Import datetime here \n",
    "import datetime"
   ]
  },
  {
   "cell_type": "markdown",
   "metadata": {},
   "source": [
    "## Variables and Assignment\n",
    "\n",
    "A variable is a \"thing\" that holds data and assignment is when we set a variable to some value.  For example, when we write:\n",
    "```python\n",
    "x = 10\n",
    "```\n",
    "We are are assigning the value `10` to the variable `x`.  The `=` is called the assignment operator.  Most programming languages use `=` as the assignment operator.\n",
    "\n",
    "**NOTE:** Remember to use single `''` or double `\"\"` quotation marks for strings."
   ]
  },
  {
   "cell_type": "markdown",
   "metadata": {},
   "source": [
    "Assign your name to the variable `name` and assign the values of your birth year, month, and day to their respective variables."
   ]
  },
  {
   "cell_type": "code",
   "execution_count": null,
   "metadata": {},
   "outputs": [],
   "source": [
    "# Assign values to name and birth variables\n",
    "name = \n",
    "birth_year = \n",
    "birth_month = \n",
    "birth_day = "
   ]
  },
  {
   "cell_type": "markdown",
   "metadata": {},
   "source": [
    "Now that we have your name and birthday stored in variables we can do something with them.  Let's print `My name is <name> and my birthday is <birth_month>-<birth_day>-<birth_year>`.  For example, if Mister's birthday is 10-10-2010 we want to print `My name is Wayne and my birthday is 10-10-2010` (since Mister's name is Wayne).\n",
    "\n",
    "So you might be wondering how do we take 4 variables and combine them into 1 string?  Good question.  We can do this by creating f-strings.  These are strings that we can inject variables into the string.  For example, we want to inject `name` into the string `My name is <name>`.  We can write:\n",
    "\n",
    "```python\n",
    "misters_name = 'Wayne'\n",
    "announce_string = f'My name is {misters_name}'\n",
    "```\n",
    "\n",
    "The `f` before the quotes indicates to the Python interpreter that we will be injecting variables into the string.  Putting curly brackets around text we are telling Python that we want to put a variable in there instead of \"misters_name\".\n",
    "\n",
    "**NOTE:** In programming, when we write a statement `<name> is my name` the term `<name>` is a variable or something you would input.  So if I were to fill in the `<name>` term I would write `Wayne is my name` or if I would want a variable to fill it in for me I would write:\n",
    "\n",
    "```python\n",
    "name = 'Wayne'\n",
    "print(f'{name} is my name')\n",
    "```"
   ]
  },
  {
   "cell_type": "code",
   "execution_count": null,
   "metadata": {},
   "outputs": [],
   "source": [
    "# Shift-Enter or press the \"play\" button on the left to run this code cell\n",
    "misters_name = 'Wayne'\n",
    "announce_string = f'My name is {misters_name}'\n",
    "print(announce_string)"
   ]
  },
  {
   "cell_type": "code",
   "execution_count": null,
   "metadata": {},
   "outputs": [],
   "source": [
    "# Now let's try it without an f-string (again just shift-enter or play this cell)\n",
    "announce_string = 'My name is {misters_name}'\n",
    "print(announce_string)"
   ]
  },
  {
   "cell_type": "markdown",
   "metadata": {},
   "source": [
    "As we can see above, the f-string allows us to inject into the string a variable while the regular string, when printed, will just be what we literally put into the quotes.\n",
    "\n",
    "Below, write the code to print out `My name is <name>`.  Do this by first creating a variable for the string you want to print then printing that string (like the code above)."
   ]
  },
  {
   "cell_type": "code",
   "execution_count": null,
   "metadata": {},
   "outputs": [],
   "source": [
    "# Use f-strings to print out the statement\n"
   ]
  },
  {
   "cell_type": "markdown",
   "metadata": {},
   "source": [
    "Now let's combine it all together.  Write out the code to combine your name and birthday in a string so that it prints out `My name is <name> and my birthday is <birth_month>-<birth_day>-<birth_year>`."
   ]
  },
  {
   "cell_type": "code",
   "execution_count": null,
   "metadata": {},
   "outputs": [],
   "source": [
    "# Print out the statement above with your name and birthday in month-day-year format\n"
   ]
  },
  {
   "cell_type": "markdown",
   "metadata": {},
   "source": [
    "## Why Laziness is Good in Programming\n",
    "\n",
    "Let's try to calculate the age of a person from their birthday in days.  Why would we do that manually when a computer can do that for us?\n",
    "\n",
    "Remember the `datetime` library we imported?  We can use that instead.  We just need to write:\n",
    "\n",
    "```python\n",
    "my_birthday = datetime.date(birth_year, birth_month, birth_day)\n",
    "current_dt = datetime.date.today()\n",
    "age = current_dt - my_birthday\n",
    "```\n",
    "\n",
    "**NOTE:** When you create your own variables use names that identify what reason for the variable.  This is half of coding/programming, you want to make it easy for someone else (or the future you) to be able to read the code and understand what is going on."
   ]
  },
  {
   "cell_type": "code",
   "execution_count": null,
   "metadata": {},
   "outputs": [],
   "source": [
    "# Print your age, it will be in days\n",
    "\n",
    "\n",
    "\n"
   ]
  },
  {
   "cell_type": "markdown",
   "metadata": {},
   "source": [
    "We can check the type of a variable by writing:\n",
    "\n",
    "```python\n",
    "type(<my_variable>)\n",
    "```"
   ]
  },
  {
   "cell_type": "code",
   "execution_count": null,
   "metadata": {},
   "outputs": [],
   "source": [
    "# Check the type of a variable\n"
   ]
  },
  {
   "cell_type": "markdown",
   "metadata": {},
   "source": [
    "Let us calculate the age in decimal.  First, the variable `age` is not a number.  It is, in fact, a `datetime.timedelta` object as illustrated above.  This means there are variables attached to it that we can retrieve.  These variables are called attributes.  So, let us retrieve the number of days attribute:\n",
    "\n",
    "```python\n",
    "age_in_days = age.days\n",
    "```\n",
    "\n",
    "Write the code print the age in decimal (let us just pretend every year is 365 days) first by retrieving the attribute for the `datetime.timedelta` object and assigning it to a new variable."
   ]
  },
  {
   "cell_type": "code",
   "execution_count": null,
   "metadata": {},
   "outputs": [],
   "source": [
    "# Create a variable that is your age in days\n",
    "\n",
    "\n",
    "# Now print you age in days\n"
   ]
  },
  {
   "cell_type": "code",
   "execution_count": null,
   "metadata": {},
   "outputs": [],
   "source": [
    "# Now print your age in years, again pretend there are 365 days in every year\n"
   ]
  }
 ],
 "metadata": {
  "kernelspec": {
   "display_name": "Python 3",
   "language": "python",
   "name": "python3"
  },
  "language_info": {
   "codemirror_mode": {
    "name": "ipython",
    "version": 3
   },
   "file_extension": ".py",
   "mimetype": "text/x-python",
   "name": "python",
   "nbconvert_exporter": "python",
   "pygments_lexer": "ipython3",
   "version": "3.10.3"
  }
 },
 "nbformat": 4,
 "nbformat_minor": 2
}
