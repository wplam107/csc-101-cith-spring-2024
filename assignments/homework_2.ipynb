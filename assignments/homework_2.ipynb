{
 "cells": [
  {
   "cell_type": "markdown",
   "metadata": {},
   "source": [
    "# CSC 101 - Homework 2"
   ]
  },
  {
   "cell_type": "markdown",
   "metadata": {},
   "source": [
    "## Floor Division and Modulo\n",
    "\n",
    "From Homework 1 we wanted to find your age in years and the decimal form (ex. if you are 400 days old then you are 400 / 365 years old which is 1.09589 years old).  But how do we find your age in years, months, and days?\n",
    "\n",
    "We can use floor division and modulo.  Floor division and modulo are 2 operations that finds the 2 different numbers from long division.  For example, if we want to do the long division of 13 divided by 5 the long division result would be 2R3.  5 divides 13 2 times with a remainder of 2.  Floor division, `13 // 5`, would give us a result of `2`, and the modulo operation, `13 % 5`, would give us a result of `3`.\n",
    "\n",
    "Let's try to calculate your age in years, months, and days."
   ]
  },
  {
   "cell_type": "markdown",
   "metadata": {},
   "source": [
    "In the cell below, let's start by importing the `datetime` module below like from Homework 1."
   ]
  },
  {
   "cell_type": "code",
   "execution_count": null,
   "metadata": {},
   "outputs": [],
   "source": [
    "# Import datetime\n"
   ]
  },
  {
   "cell_type": "markdown",
   "metadata": {},
   "source": [
    "Now let's create a variable called `my_date_of_birth` and use `datetime` to find your age in days and assign that value to `age_in_days`.\n",
    "\n",
    "**Hint:** Check Homework 1.  Get the days from the `datetime.timedelta`."
   ]
  },
  {
   "cell_type": "code",
   "execution_count": null,
   "metadata": {},
   "outputs": [],
   "source": [
    "# Create variables for your birth date\n",
    "\n",
    "\n",
    "# Create a variable for your age in days\n"
   ]
  },
  {
   "cell_type": "markdown",
   "metadata": {},
   "source": [
    "Now let's use floor division to get your age in years.  We can do this by floor dividing, `//`, your age in days by days in a year (pretend every year has 365 days) and assign it to a variable named `age_in_years`."
   ]
  },
  {
   "cell_type": "code",
   "execution_count": null,
   "metadata": {},
   "outputs": [],
   "source": [
    "# Create variable that is your age in years\n"
   ]
  },
  {
   "cell_type": "markdown",
   "metadata": {},
   "source": [
    "Now we want to get the months leftover.  We can do this by finding the remainder from long division with the modulo operation.  Create a variable `days_remainder` and assign it `<your_in_days> % 365>`.\n",
    "\n",
    "We can now get the months from floor dividing the remaining days from the number of days in a month (let's pretend every month has 30 days), let's assign that to a variable named `months`.\n",
    "\n",
    "**Reminder:** When we write `<my_age_in_days>` we mean to actually write your age in days."
   ]
  },
  {
   "cell_type": "code",
   "execution_count": null,
   "metadata": {},
   "outputs": [],
   "source": [
    "# Create a variable that is the remaining days\n",
    "\n",
    "\n",
    "# Create a variable that is the months from the remaining days\n"
   ]
  },
  {
   "cell_type": "markdown",
   "metadata": {},
   "source": [
    "We can finally get the remaining days by using the modulo operation and assign that to a variable named `days`.\n",
    "\n",
    "And finally, let's print (using a f-string utilizing the variables instead of manually entering in your age in years, months, days), `I am <age_in_years> years, <months> months, and <days> days old.`\n",
    "\n",
    "**HINT:** If I am 4 years, 2 months, and 5 days old the print statement should come out to be `I am 4 years, 2 months, and 5 days old`."
   ]
  },
  {
   "cell_type": "code",
   "execution_count": null,
   "metadata": {},
   "outputs": [],
   "source": [
    "# Create a days variable and assign it the leftover days \n",
    "# after dividing by days in a month\n",
    "\n",
    "\n",
    "# Print out your age in years, months, and days\n"
   ]
  }
 ],
 "metadata": {
  "kernelspec": {
   "display_name": "Python 3",
   "language": "python",
   "name": "python3"
  },
  "language_info": {
   "codemirror_mode": {
    "name": "ipython",
    "version": 3
   },
   "file_extension": ".py",
   "mimetype": "text/x-python",
   "name": "python",
   "nbconvert_exporter": "python",
   "pygments_lexer": "ipython3",
   "version": "3.10.3"
  }
 },
 "nbformat": 4,
 "nbformat_minor": 2
}
