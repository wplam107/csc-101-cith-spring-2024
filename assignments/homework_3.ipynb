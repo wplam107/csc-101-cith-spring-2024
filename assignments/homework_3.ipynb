{
 "cells": [
  {
   "cell_type": "markdown",
   "metadata": {},
   "source": [
    "# CSC 101 - Homework 3 and 4/6/24 Lab Combined\n",
    "\n",
    "In class we saw for loops with lists.  In this week's homework we will continue with for loops using lists, ranges, and also while loops with counters.\n",
    "\n",
    "Additionally, we will be using Python dictionaries to hold data."
   ]
  },
  {
   "cell_type": "markdown",
   "metadata": {},
   "source": [
    "## Dictionaries\n",
    "\n",
    "We have talked about Python dictionaries earlier in the semester.  As a refresher a dictionary is a data type in Python that allows us to create key-value pairs to hold and retrieve data.\n",
    "\n",
    "For example, we can create a dictionary called `mister` with my name, attack value, and defense value.  We do this by using curly brackets and specifying the key which in this case would be `name`, `attack`, and `defense`; and their corresponding values.  Note, a key can be any \"hashable\" type like a string, integer, float, or tuple.  Additionally, values can be any type.\n",
    "\n",
    "```python\n",
    "mister = {\n",
    "    'name': 'Wayne',\n",
    "    'attack': 2,\n",
    "    'defense': 8\n",
    "}\n",
    "```"
   ]
  },
  {
   "cell_type": "markdown",
   "metadata": {},
   "source": [
    "In the cell below, make a dictionary that stores your name, attack, and defense.  You can make up your attack and defense values."
   ]
  },
  {
   "cell_type": "code",
   "execution_count": 5,
   "metadata": {},
   "outputs": [],
   "source": [
    "# Create dictionary and assign it to a variable that is also your name\n"
   ]
  },
  {
   "cell_type": "markdown",
   "metadata": {},
   "source": [
    "We can now access a specific key-value pair in the dictionary to retrieve data using square brackets.  For example:\n",
    "\n",
    "```python\n",
    "print(mister['name'])\n",
    "```\n",
    "\n",
    "Will output `Wayne`.\n",
    "\n",
    "```python\n",
    "print(mister['attack'])\n",
    "```\n",
    "\n",
    "Will output `2`.\n",
    "\n",
    "In the cell below, let's combine f-strings and print out `<your-name> has an attack of <your-attack>`.\n",
    "\n",
    "**HINT:**\n",
    "\n",
    "For print statement I would write:\n",
    "\n",
    "```python\n",
    "print(f\"{mister['name']} has an attack of {mister['attack']}\")\n",
    "```\n",
    "\n",
    "Also remember that you need to use different quotation marks when you have a string inside of a string.  In the example above, the f-string is specified by `\"` and the key is specified by `'`."
   ]
  },
  {
   "cell_type": "code",
   "execution_count": null,
   "metadata": {},
   "outputs": [],
   "source": [
    "# Print out your name and attack as an f-string like the example\n"
   ]
  },
  {
   "cell_type": "markdown",
   "metadata": {},
   "source": [
    "## Iterating over a list of dictionaries\n",
    "\n",
    "Now that we have your stats we can iterate over a list of other attackers and defenders.\n",
    "\n",
    "First run the cell below so that we have the variable stored in the environment."
   ]
  },
  {
   "cell_type": "code",
   "execution_count": 6,
   "metadata": {},
   "outputs": [],
   "source": [
    "# Run this cell\n",
    "fighters = [\n",
    "    {'name': 'Wayne', 'attack': 2, 'defense': 8},\n",
    "    {'name': 'Cookie Monster', 'attack': 9, 'defense': 3},\n",
    "    {'name': 'Big Bird', 'attack': 5, 'defense': 12}\n",
    "]"
   ]
  },
  {
   "cell_type": "markdown",
   "metadata": {},
   "source": [
    "We can iterate (aka loop over) the list of fighters.  We ultimately want to see who would win in a theoretical fight here versus your fighter.  So let's loop over the list first.\n",
    "\n",
    "In the cell below, loop over the fighters and print their name.  If you need to, look at the lab from a previous class, look it up on the Zybooks (Modules 10 and 11), or just Google how to loop over list of dictionaries and print a value."
   ]
  },
  {
   "cell_type": "code",
   "execution_count": 9,
   "metadata": {},
   "outputs": [],
   "source": [
    "# Loop over fighters and print each fighter's name\n"
   ]
  },
  {
   "cell_type": "markdown",
   "metadata": {},
   "source": [
    "So now that we know how to loop over a list of dictionaries, we can loop over the list of dictionaries and compare the attack and defense values of the list of fighters versus your fighter.  From a previous lab we used if-elif-else statements to determine if something was greater than, less than, or equal.\n",
    "\n",
    "In the cell below, loop over the fighters and write if-elif-else statements comparing their attack to your defense.  If their attack is greater than your defense print the string `<their-name>'s attack landed <your-name>`, if their attack is less than your defense print the string `<your-name> countered <their-name>'s attack`, and if they are equal print the string `<their-name> was blocked by <your-name>`.\n",
    "\n",
    "**NOTE:** Remember that `'` as an apostrophe will throw an error if you use `'` to specify a string so use `\"` to specify the string instead."
   ]
  },
  {
   "cell_type": "code",
   "execution_count": 10,
   "metadata": {},
   "outputs": [],
   "source": [
    "# Loop over fighters and see the result of their attack on your fighter\n"
   ]
  },
  {
   "cell_type": "markdown",
   "metadata": {},
   "source": [
    "## For loops with range function\n",
    "\n",
    "We can loop through lists also using the range function in combination with the length function.\n",
    "\n",
    "Let's check out the length function first.  You can check how many elements there are in the `fighters` list by writing:\n",
    "\n",
    "```python\n",
    "len(fighters)\n",
    "```\n",
    "\n",
    "This will return an integer."
   ]
  },
  {
   "cell_type": "code",
   "execution_count": 12,
   "metadata": {},
   "outputs": [],
   "source": [
    "# Check the length of fighters\n"
   ]
  },
  {
   "cell_type": "markdown",
   "metadata": {},
   "source": [
    "Now let's put that integer into the range function:\n",
    "\n",
    "```python\n",
    "range(len(fighters))\n",
    "```\n",
    "\n",
    "**NOTE:** We can also specify 2 arguments for the range function.  For example:\n",
    "\n",
    "```python\n",
    "range(5, 10)\n",
    "```\n",
    "\n",
    "This will generate integers from 5 up to 10 (again, excluding 10).  If we were to loop over our `fighters` list with this range, what do you think would happen?"
   ]
  },
  {
   "cell_type": "code",
   "execution_count": 14,
   "metadata": {},
   "outputs": [],
   "source": [
    "# Check to see the output\n"
   ]
  },
  {
   "cell_type": "markdown",
   "metadata": {},
   "source": [
    "The output is a range object.  It is an object that will return integers from the first number (in this case index 0) up till but not including the last integer (in this case the last integer returned will be 2).\n",
    "\n",
    "We can use the integers returned from a range function to retrieve the objects in the list by their indices.\n",
    "\n",
    "So if we wanted to loop over a list of `bears`: `['Fonzie', 'Paddington', 'Baby Bear']` we could write:\n",
    "\n",
    "```python\n",
    "for i in range(len(bears)):\n",
    "    bear = bears[i]\n",
    "    print(bear)\n",
    "```\n",
    "\n",
    "The output would be:\n",
    "\n",
    "```\n",
    "Fonzie\n",
    "Paddington\n",
    "Baby Bear\n",
    "```\n",
    "\n",
    "Now let's try looping over our list of `fighters`, but we have a list of dictionaries so this time we also need to access the key-value pairs.\n",
    "\n",
    "In the cell below, let's use a range and length function to loop over the list of `fighters` and print their names."
   ]
  },
  {
   "cell_type": "code",
   "execution_count": 17,
   "metadata": {},
   "outputs": [],
   "source": [
    "# Use range and len to loop over fighters, printing their names\n"
   ]
  },
  {
   "cell_type": "markdown",
   "metadata": {},
   "source": [
    "List practice: In the cell below, let us create a list of strings that can tell us if your fighter landed a hit (your attack greater than their defense), got countered (your attack lower than their defense), or got blocked (your attack equal to their defense).  Assign that list of strings to a variable named `attack_outcomes`."
   ]
  },
  {
   "cell_type": "code",
   "execution_count": 18,
   "metadata": {},
   "outputs": [],
   "source": [
    "# Create list of attack outcomes\n"
   ]
  },
  {
   "cell_type": "markdown",
   "metadata": {},
   "source": [
    "Let us create a for loop with the range and length functions that is like the regular for loop but this time instead of manually writing a string to print at each branch in the control structure.  Let us print the correct `attack_outcomes` string using its index."
   ]
  },
  {
   "cell_type": "code",
   "execution_count": 19,
   "metadata": {},
   "outputs": [],
   "source": [
    "# Create for loop using range and len printing the outcome of the attack\n"
   ]
  },
  {
   "cell_type": "markdown",
   "metadata": {},
   "source": [
    "## While loops and nested if-elif-else statements\n",
    "\n",
    "We will now explore a 3rd way to loop, the while loop.  It is combining an `if` statement into the loop condition instead of iterating through a list (or any iterable object).  This allows us to loop without even knowing the final size of an object or maybe we just don't even have an object to loop through we just need to continually run a block of code until a certain condition has been met.\n",
    "\n",
    "To use a while loop with an index counter we can do:\n",
    "\n",
    "```python\n",
    "i = 0\n",
    "while i < len(bears):\n",
    "    bear = bears[i]\n",
    "    print(bear)\n",
    "    i = i + 1\n",
    "```\n",
    "\n",
    "The output would be:\n",
    "\n",
    "```\n",
    "Fonzie\n",
    "Paddington\n",
    "Baby Bear\n",
    "```\n",
    "\n",
    "Let's start by using an index for a while loop.  Start by creating an index variable, often `i`, and assigning it the value `0` so that we start at the beginning of the list.  Then loop over the `fighters` list and print the names like in the loops above."
   ]
  },
  {
   "cell_type": "code",
   "execution_count": 20,
   "metadata": {},
   "outputs": [],
   "source": [
    "# Use while loop to print names of fighters\n"
   ]
  },
  {
   "cell_type": "markdown",
   "metadata": {},
   "source": [
    "Now let's add the if-elif-else conditions to the while loop so that if your attack landed (attack > defense), was blocked (attack == defense), or was countered (attack < defense) and print the results.  Feel free to use the `attack_outcomes` or to write your own f-strings like the first for loop."
   ]
  },
  {
   "cell_type": "code",
   "execution_count": 21,
   "metadata": {},
   "outputs": [],
   "source": [
    "# Add if-elif-else conditions to while loop for attacks\n"
   ]
  },
  {
   "cell_type": "markdown",
   "metadata": {},
   "source": [
    "Now here is the big one, add a nested condition.  If the other fighter countered your fighter, create a nested condition such that if the other fighter's attack is greater than your fighter's defense it would now additionally print a string stating their counter landed.\n",
    "\n",
    "For example:\n",
    "- If your fighter landed the attack, the only print statement would be that your fighter landed the attack.\n",
    "- If your fighter was blocked, the only print statement would be that your fighter was blocked.\n",
    "- If your fighter was countered, it would first print that your fighter was countered, then either print the counter landed or print the counter was blocked."
   ]
  },
  {
   "cell_type": "code",
   "execution_count": null,
   "metadata": {},
   "outputs": [],
   "source": [
    "# Write the loop with nested conditions\n"
   ]
  }
 ],
 "metadata": {
  "kernelspec": {
   "display_name": "Python 3",
   "language": "python",
   "name": "python3"
  },
  "language_info": {
   "codemirror_mode": {
    "name": "ipython",
    "version": 3
   },
   "file_extension": ".py",
   "mimetype": "text/x-python",
   "name": "python",
   "nbconvert_exporter": "python",
   "pygments_lexer": "ipython3",
   "version": "3.10.3"
  }
 },
 "nbformat": 4,
 "nbformat_minor": 2
}
